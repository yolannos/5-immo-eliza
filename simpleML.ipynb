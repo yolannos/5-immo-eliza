{
 "metadata": {
  "language_info": {
   "codemirror_mode": {
    "name": "ipython",
    "version": 3
   },
   "file_extension": ".py",
   "mimetype": "text/x-python",
   "name": "python",
   "nbconvert_exporter": "python",
   "pygments_lexer": "ipython3",
   "version": "3.8.5"
  },
  "orig_nbformat": 2,
  "kernelspec": {
   "name": "python385jvsc74a57bd0f3ed759d09bb9815abaab617d9431de433c0be0de2b9701c8b4019cb696b6853",
   "display_name": "Python 3.8.5 64-bit ('dev-becode': virtualenvwrapper)"
  }
 },
 "nbformat": 4,
 "nbformat_minor": 2,
 "cells": [
  {
   "cell_type": "code",
   "execution_count": 1,
   "metadata": {},
   "outputs": [],
   "source": [
    "import numpy as np\n",
    "import pandas as pd\n",
    "import matplotlib.pyplot as plt\n",
    "from sklearn.pipeline import make_pipeline\n",
    "from sklearn.compose import make_column_selector, make_column_transformer\n",
    "from sklearn.preprocessing import StandardScaler, OneHotEncoder, PolynomialFeatures, Normalizer\n",
    "from sklearn.model_selection import train_test_split\n",
    "from sklearn.linear_model import LinearRegression\n",
    "from sklearn.impute import SimpleImputer\n",
    "import seaborn as sns\n",
    "\n",
    "from xgboost import XGBRegressor\n",
    "import xgboost as xgb\n",
    "\n",
    "from sklearn.ensemble import RandomForestRegressor, BaggingRegressor, AdaBoostRegressor, GradientBoostingRegressor"
   ]
  },
  {
   "cell_type": "code",
   "execution_count": 2,
   "metadata": {},
   "outputs": [
    {
     "output_type": "execute_result",
     "data": {
      "text/plain": [
       "   Unnamed: 0  Locality Type of property     Price  Number of rooms   Area  \\\n",
       "0           0      2970        apartment  764999.0              2.0  153.0   \n",
       "1           1      3200        apartment  294999.0              2.0   80.0   \n",
       "2           2      8211        apartment  233999.0              2.0   90.0   \n",
       "3           3      2630        apartment  329899.0              1.0   87.0   \n",
       "4           4      2630        apartment  359899.0              1.0   95.0   \n",
       "\n",
       "   Fully equipped kitchen  Furnished  Open fire  Terrace Area  Garden Area  \\\n",
       "0                     0.0        0.0        0.0          62.0          0.0   \n",
       "1                     0.0        0.0        0.0           0.0          0.0   \n",
       "2                     0.0        0.0        0.0           0.0          0.0   \n",
       "3                     0.0        0.0        0.0          28.0          0.0   \n",
       "4                     0.0        0.0        0.0          47.0          0.0   \n",
       "\n",
       "   Surface of the land  Number of facades  Swimming pool  \\\n",
       "0                215.0                2.0            0.0   \n",
       "1                 80.0                2.0            0.0   \n",
       "2                 90.0                2.0            0.0   \n",
       "3                115.0                2.0            0.0   \n",
       "4                142.0                4.0            0.0   \n",
       "\n",
       "  State of the building            Province    Region  PriceperMeter  \n",
       "0                medium              Anvers  Flanders         4999.0  \n",
       "1                medium     Brabant Flamand  Flanders         3687.0  \n",
       "2                medium  Flandre Occidental  Flanders         2599.0  \n",
       "3                medium              Anvers  Flanders         3791.0  \n",
       "4                medium              Anvers  Flanders         3788.0  "
      ],
      "text/html": "<div>\n<style scoped>\n    .dataframe tbody tr th:only-of-type {\n        vertical-align: middle;\n    }\n\n    .dataframe tbody tr th {\n        vertical-align: top;\n    }\n\n    .dataframe thead th {\n        text-align: right;\n    }\n</style>\n<table border=\"1\" class=\"dataframe\">\n  <thead>\n    <tr style=\"text-align: right;\">\n      <th></th>\n      <th>Unnamed: 0</th>\n      <th>Locality</th>\n      <th>Type of property</th>\n      <th>Price</th>\n      <th>Number of rooms</th>\n      <th>Area</th>\n      <th>Fully equipped kitchen</th>\n      <th>Furnished</th>\n      <th>Open fire</th>\n      <th>Terrace Area</th>\n      <th>Garden Area</th>\n      <th>Surface of the land</th>\n      <th>Number of facades</th>\n      <th>Swimming pool</th>\n      <th>State of the building</th>\n      <th>Province</th>\n      <th>Region</th>\n      <th>PriceperMeter</th>\n    </tr>\n  </thead>\n  <tbody>\n    <tr>\n      <th>0</th>\n      <td>0</td>\n      <td>2970</td>\n      <td>apartment</td>\n      <td>764999.0</td>\n      <td>2.0</td>\n      <td>153.0</td>\n      <td>0.0</td>\n      <td>0.0</td>\n      <td>0.0</td>\n      <td>62.0</td>\n      <td>0.0</td>\n      <td>215.0</td>\n      <td>2.0</td>\n      <td>0.0</td>\n      <td>medium</td>\n      <td>Anvers</td>\n      <td>Flanders</td>\n      <td>4999.0</td>\n    </tr>\n    <tr>\n      <th>1</th>\n      <td>1</td>\n      <td>3200</td>\n      <td>apartment</td>\n      <td>294999.0</td>\n      <td>2.0</td>\n      <td>80.0</td>\n      <td>0.0</td>\n      <td>0.0</td>\n      <td>0.0</td>\n      <td>0.0</td>\n      <td>0.0</td>\n      <td>80.0</td>\n      <td>2.0</td>\n      <td>0.0</td>\n      <td>medium</td>\n      <td>Brabant Flamand</td>\n      <td>Flanders</td>\n      <td>3687.0</td>\n    </tr>\n    <tr>\n      <th>2</th>\n      <td>2</td>\n      <td>8211</td>\n      <td>apartment</td>\n      <td>233999.0</td>\n      <td>2.0</td>\n      <td>90.0</td>\n      <td>0.0</td>\n      <td>0.0</td>\n      <td>0.0</td>\n      <td>0.0</td>\n      <td>0.0</td>\n      <td>90.0</td>\n      <td>2.0</td>\n      <td>0.0</td>\n      <td>medium</td>\n      <td>Flandre Occidental</td>\n      <td>Flanders</td>\n      <td>2599.0</td>\n    </tr>\n    <tr>\n      <th>3</th>\n      <td>3</td>\n      <td>2630</td>\n      <td>apartment</td>\n      <td>329899.0</td>\n      <td>1.0</td>\n      <td>87.0</td>\n      <td>0.0</td>\n      <td>0.0</td>\n      <td>0.0</td>\n      <td>28.0</td>\n      <td>0.0</td>\n      <td>115.0</td>\n      <td>2.0</td>\n      <td>0.0</td>\n      <td>medium</td>\n      <td>Anvers</td>\n      <td>Flanders</td>\n      <td>3791.0</td>\n    </tr>\n    <tr>\n      <th>4</th>\n      <td>4</td>\n      <td>2630</td>\n      <td>apartment</td>\n      <td>359899.0</td>\n      <td>1.0</td>\n      <td>95.0</td>\n      <td>0.0</td>\n      <td>0.0</td>\n      <td>0.0</td>\n      <td>47.0</td>\n      <td>0.0</td>\n      <td>142.0</td>\n      <td>4.0</td>\n      <td>0.0</td>\n      <td>medium</td>\n      <td>Anvers</td>\n      <td>Flanders</td>\n      <td>3788.0</td>\n    </tr>\n  </tbody>\n</table>\n</div>"
     },
     "metadata": {},
     "execution_count": 2
    }
   ],
   "source": [
    "data = pd.read_csv(\"https://raw.githubusercontent.com/SamuelD005/challenge-regression/development/Data8.csv\", sep=\",\")\n",
    "data.head()"
   ]
  },
  {
   "cell_type": "code",
   "execution_count": 3,
   "metadata": {},
   "outputs": [],
   "source": [
    "X = data.drop([\"Price\",\"Unnamed: 0\",\"PriceperMeter\"] , axis = 1)\n",
    "y = data[\"Price\"]"
   ]
  },
  {
   "cell_type": "code",
   "execution_count": 4,
   "metadata": {},
   "outputs": [],
   "source": [
    "X_train, X_test, y_train, y_test = train_test_split(X, y, test_size=0.2, random_state=41)"
   ]
  },
  {
   "cell_type": "code",
   "execution_count": 5,
   "metadata": {},
   "outputs": [],
   "source": [
    "numerical_features = ['Locality', 'Number of rooms', 'Area', 'Terrace Area', 'Garden Area', 'Surface of the land']\n",
    "categorial_features = ['Type of property','Fully equipped kitchen', 'Furnished', 'Open fire',\n",
    "                       'Swimming pool', 'State of the building', 'Province', 'Region','Number of facades']"
   ]
  },
  {
   "cell_type": "code",
   "execution_count": 6,
   "metadata": {},
   "outputs": [],
   "source": [
    "numerical_pipeline = make_pipeline(SimpleImputer(), StandardScaler())\n",
    "categorial_pipeline = make_pipeline(SimpleImputer(strategy=\"most_frequent\"), \n",
    "                                   OneHotEncoder())"
   ]
  },
  {
   "cell_type": "code",
   "execution_count": 7,
   "metadata": {},
   "outputs": [],
   "source": [
    "preprocessor = make_column_transformer((numerical_pipeline, numerical_features),\n",
    "                       (categorial_pipeline, categorial_features))"
   ]
  },
  {
   "cell_type": "code",
   "execution_count": 8,
   "metadata": {},
   "outputs": [
    {
     "output_type": "execute_result",
     "data": {
      "text/plain": [
       "0.7545927011573226"
      ]
     },
     "metadata": {},
     "execution_count": 8
    }
   ],
   "source": [
    "model = make_pipeline(preprocessor, XGBRegressor())\n",
    "XGBoost_model = model.fit(X_train, y_train)\n",
    "XGBoost_model.score(X_test, y_test)"
   ]
  },
  {
   "cell_type": "code",
   "execution_count": 9,
   "metadata": {},
   "outputs": [],
   "source": [
    "BG = BaggingRegressor(base_estimator=XGBRegressor(), n_estimators= 10)"
   ]
  },
  {
   "cell_type": "code",
   "execution_count": 10,
   "metadata": {},
   "outputs": [
    {
     "output_type": "execute_result",
     "data": {
      "text/plain": [
       "0.7747862035827116"
      ]
     },
     "metadata": {},
     "execution_count": 10
    }
   ],
   "source": [
    "model = make_pipeline(preprocessor, BG)\n",
    "BG_model = model.fit(X_train, y_train)\n",
    "BG_model.score(X_test, y_test)"
   ]
  },
  {
   "cell_type": "code",
   "execution_count": 11,
   "metadata": {},
   "outputs": [
    {
     "output_type": "execute_result",
     "data": {
      "text/plain": [
       "array([228695.78, 288245.75, 195271.83, ..., 175918.55, 652174.25,\n",
       "       332661.3 ], dtype=float32)"
      ]
     },
     "metadata": {},
     "execution_count": 11
    }
   ],
   "source": [
    "BG_model.predict(X_test)"
   ]
  },
  {
   "cell_type": "code",
   "execution_count": 12,
   "metadata": {},
   "outputs": [],
   "source": [
    "import pickle\n",
    "xg_file = \"xgb_reg.pkl\"\n",
    "bg_file = \"bg_reg.pkl\"\n",
    "# save\n",
    "pickle.dump(XGBoost_model, open(xg_file, \"wb\"))\n",
    "pickle.dump(BG_model, open(bg_file, \"wb\"))"
   ]
  },
  {
   "cell_type": "code",
   "execution_count": 13,
   "metadata": {},
   "outputs": [
    {
     "output_type": "stream",
     "name": "stdout",
     "text": [
      "Pipeline(steps=[('columntransformer',\n                 ColumnTransformer(transformers=[('pipeline-1',\n                                                  Pipeline(steps=[('simpleimputer',\n                                                                   SimpleImputer()),\n                                                                  ('standardscaler',\n                                                                   StandardScaler())]),\n                                                  ['Locality',\n                                                   'Number of rooms', 'Area',\n                                                   'Terrace Area',\n                                                   'Garden Area',\n                                                   'Surface of the land']),\n                                                 ('pipeline-2',\n                                                  Pipeline(steps=[('simpleimputer',\n                                                                   SimpleImputer(strategy='most_frequent')),\n                                                                  ('onehot...\n                              colsample_bytree=1, gamma=0, gpu_id=-1,\n                              importance_type='gain',\n                              interaction_constraints='',\n                              learning_rate=0.300000012, max_delta_step=0,\n                              max_depth=6, min_child_weight=1, missing=nan,\n                              monotone_constraints='()', n_estimators=100,\n                              n_jobs=12, num_parallel_tree=1, random_state=0,\n                              reg_alpha=0, reg_lambda=1, scale_pos_weight=1,\n                              subsample=1, tree_method='exact',\n                              validate_parameters=1, verbosity=None))])\n"
     ]
    }
   ],
   "source": [
    "# # load\n",
    "xgb_model_loaded = pickle.load(open(xg_file, \"rb\"))\n",
    "print(xgb_model_loaded)\n",
    "# test\n",
    "# ind = 1\n",
    "# test = X_val[ind]\n",
    "# xgb_model_loaded.predict(test)[0] == xgb_model.predict(test)[0]"
   ]
  }
 ]
}