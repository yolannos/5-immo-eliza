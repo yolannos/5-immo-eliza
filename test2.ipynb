{
 "metadata": {
  "language_info": {
   "codemirror_mode": {
    "name": "ipython",
    "version": 3
   },
   "file_extension": ".py",
   "mimetype": "text/x-python",
   "name": "python",
   "nbconvert_exporter": "python",
   "pygments_lexer": "ipython3",
   "version": "3.8.5"
  },
  "orig_nbformat": 2,
  "kernelspec": {
   "name": "python385jvsc74a57bd0f3ed759d09bb9815abaab617d9431de433c0be0de2b9701c8b4019cb696b6853",
   "display_name": "Python 3.8.5 64-bit ('dev-becode': virtualenvwrapper)"
  }
 },
 "nbformat": 4,
 "nbformat_minor": 2,
 "cells": [
  {
   "cell_type": "code",
   "execution_count": 1,
   "metadata": {},
   "outputs": [],
   "source": [
    "import numpy as np\n",
    "import pandas as pd\n",
    "from utils import utils\n",
    "import pickle\n",
    "import streamlit as st "
   ]
  },
  {
   "cell_type": "code",
   "execution_count": 2,
   "metadata": {},
   "outputs": [],
   "source": [
    "model = pickle.load(open(\"bg_reg.pkl\", \"rb\"))\n",
    "\n",
    "###### Just to get exactly the same columns as the one used in the model\n",
    "data = pd.read_csv(\"https://raw.githubusercontent.com/SamuelD005/challenge-regression/development/Data8.csv\", sep=\",\")\n",
    "X = data.drop([\"Price\",\"Unnamed: 0\",\"PriceperMeter\"] , axis = 1)\n",
    "columns = X.columns\n",
    "df_streamlit = pd.DataFrame(columns = columns)\n",
    "#######"
   ]
  },
  {
   "cell_type": "code",
   "execution_count": 3,
   "metadata": {},
   "outputs": [],
   "source": [
    "locality = 1000\n",
    "type_of_property = \"house\"\n",
    "number_of_room = 3\n",
    "area =  150\n",
    "fully_equipped_kitchen = \"Yes\"\n",
    "fully_equipped_kitchen = 1 if fully_equipped_kitchen == \"Yes\" else 0\n",
    "\n",
    "furnished = \"No\" \n",
    "furnished = 1 if furnished == \"Yes\" else 0\n",
    "\n",
    "open_fire =  \"No\"\n",
    "open_fire = 1 if open_fire == \"Yes\" else 0\n",
    "\n",
    "terrace_area = 0\n",
    "garden_area = 0\n",
    "surface_of_the_land = 150\n",
    "number_of_facades = 2\n",
    "\n",
    "swimming_pool = \"No\"\n",
    "swimming_pool = 1 if swimming_pool == \"Yes\" else 0\n",
    "\n",
    "state_of_building = \"medium\"\n",
    "\n",
    "province = utils.change_to_province(locality)[:2][0]\n",
    "region = utils.change_to_province(locality)[:2][1]"
   ]
  },
  {
   "cell_type": "code",
   "execution_count": 4,
   "metadata": {},
   "outputs": [
    {
     "output_type": "stream",
     "name": "stdout",
     "text": [
      "1\n"
     ]
    }
   ],
   "source": [
    "print(fully_equipped_kitchen)"
   ]
  },
  {
   "cell_type": "code",
   "execution_count": 5,
   "metadata": {},
   "outputs": [
    {
     "output_type": "stream",
     "name": "stdout",
     "text": [
      "Brussel\n"
     ]
    }
   ],
   "source": [
    "print(region)"
   ]
  },
  {
   "cell_type": "code",
   "execution_count": 10,
   "metadata": {},
   "outputs": [],
   "source": [
    "df = pd.DataFrame([[locality,\n",
    "                    type_of_property,\n",
    "                    number_of_room,area, \n",
    "                    fully_equipped_kitchen, \n",
    "                    furnished, open_fire, \n",
    "                    terrace_area,\n",
    "                    garden_area,\n",
    "                    surface_of_the_land,\n",
    "                    number_of_facades,\n",
    "                    swimming_pool,\n",
    "                    state_of_building,\n",
    "                    province,\n",
    "                    region]\n",
    "                    ], \n",
    "                    columns= columns)"
   ]
  },
  {
   "cell_type": "code",
   "execution_count": 11,
   "metadata": {},
   "outputs": [
    {
     "output_type": "execute_result",
     "data": {
      "text/plain": [
       "   Locality Type of property  Number of rooms  Area  Fully equipped kitchen  \\\n",
       "0      1000            house                3   150                       1   \n",
       "\n",
       "   Furnished  Open fire  Terrace Area  Garden Area  Surface of the land  \\\n",
       "0          0          0             0            0                  150   \n",
       "\n",
       "   Number of facades  Swimming pool State of the building Province   Region  \n",
       "0                  2              0                medium  Brussel  Brussel  "
      ],
      "text/html": "<div>\n<style scoped>\n    .dataframe tbody tr th:only-of-type {\n        vertical-align: middle;\n    }\n\n    .dataframe tbody tr th {\n        vertical-align: top;\n    }\n\n    .dataframe thead th {\n        text-align: right;\n    }\n</style>\n<table border=\"1\" class=\"dataframe\">\n  <thead>\n    <tr style=\"text-align: right;\">\n      <th></th>\n      <th>Locality</th>\n      <th>Type of property</th>\n      <th>Number of rooms</th>\n      <th>Area</th>\n      <th>Fully equipped kitchen</th>\n      <th>Furnished</th>\n      <th>Open fire</th>\n      <th>Terrace Area</th>\n      <th>Garden Area</th>\n      <th>Surface of the land</th>\n      <th>Number of facades</th>\n      <th>Swimming pool</th>\n      <th>State of the building</th>\n      <th>Province</th>\n      <th>Region</th>\n    </tr>\n  </thead>\n  <tbody>\n    <tr>\n      <th>0</th>\n      <td>1000</td>\n      <td>house</td>\n      <td>3</td>\n      <td>150</td>\n      <td>1</td>\n      <td>0</td>\n      <td>0</td>\n      <td>0</td>\n      <td>0</td>\n      <td>150</td>\n      <td>2</td>\n      <td>0</td>\n      <td>medium</td>\n      <td>Brussel</td>\n      <td>Brussel</td>\n    </tr>\n  </tbody>\n</table>\n</div>"
     },
     "metadata": {},
     "execution_count": 11
    }
   ],
   "source": [
    "df.head()"
   ]
  },
  {
   "cell_type": "code",
   "execution_count": 8,
   "metadata": {},
   "outputs": [],
   "source": [
    "result= model.predict(df)"
   ]
  },
  {
   "cell_type": "code",
   "execution_count": 9,
   "metadata": {},
   "outputs": [
    {
     "output_type": "execute_result",
     "data": {
      "text/plain": [
       "array([409518.5], dtype=float32)"
      ]
     },
     "metadata": {},
     "execution_count": 9
    }
   ],
   "source": [
    "result"
   ]
  }
 ]
}