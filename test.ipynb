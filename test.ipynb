{
 "metadata": {
  "language_info": {
   "codemirror_mode": {
    "name": "ipython",
    "version": 3
   },
   "file_extension": ".py",
   "mimetype": "text/x-python",
   "name": "python",
   "nbconvert_exporter": "python",
   "pygments_lexer": "ipython3",
   "version": "3.8.5"
  },
  "orig_nbformat": 2,
  "kernelspec": {
   "name": "python385jvsc74a57bd0f3ed759d09bb9815abaab617d9431de433c0be0de2b9701c8b4019cb696b6853",
   "display_name": "Python 3.8.5 64-bit ('dev-becode': virtualenvwrapper)"
  }
 },
 "nbformat": 4,
 "nbformat_minor": 2,
 "cells": [
  {
   "cell_type": "code",
   "execution_count": 1,
   "metadata": {},
   "outputs": [],
   "source": [
    "import pickle\n",
    "import pandas as pd \n",
    "import numpy as np\n",
    "\n",
    "from sklearn.pipeline import make_pipeline\n",
    "from sklearn.compose import make_column_selector, make_column_transformer\n",
    "from sklearn.preprocessing import StandardScaler, OneHotEncoder, PolynomialFeatures, Normalizer\n",
    "from sklearn.model_selection import train_test_split\n",
    "from sklearn.linear_model import LinearRegression\n",
    "from sklearn.impute import SimpleImputer\n",
    "\n",
    "from utils import utils\n",
    "import matplotlib.pyplot as plt"
   ]
  },
  {
   "cell_type": "code",
   "execution_count": 2,
   "metadata": {},
   "outputs": [
    {
     "output_type": "stream",
     "name": "stdout",
     "text": [
      "Pipeline(steps=[('columntransformer',\n                 ColumnTransformer(transformers=[('pipeline-1',\n                                                  Pipeline(steps=[('simpleimputer',\n                                                                   SimpleImputer()),\n                                                                  ('standardscaler',\n                                                                   StandardScaler())]),\n                                                  ['Locality',\n                                                   'Number of rooms', 'Area',\n                                                   'Terrace Area',\n                                                   'Garden Area',\n                                                   'Surface of the land']),\n                                                 ('pipeline-2',\n                                                  Pipeline(steps=[('simpleimputer',\n                                                                   SimpleImputer(strategy='most_frequent')),\n                                                                  ('onehot...\n                                                              importance_type='gain',\n                                                              interaction_constraints=None,\n                                                              learning_rate=None,\n                                                              max_delta_step=None,\n                                                              max_depth=None,\n                                                              min_child_weight=None,\n                                                              missing=nan,\n                                                              monotone_constraints=None,\n                                                              n_estimators=100,\n                                                              n_jobs=None,\n                                                              num_parallel_tree=None,\n                                                              random_state=None,\n                                                              reg_alpha=None,\n                                                              reg_lambda=None,\n                                                              scale_pos_weight=None,\n                                                              subsample=None,\n                                                              tree_method=None,\n                                                              validate_parameters=None,\n                                                              verbosity=None)))])\n"
     ]
    }
   ],
   "source": [
    "model = pickle.load(open(\"bg_reg.pkl\", \"rb\"))\n",
    "print(model)"
   ]
  },
  {
   "cell_type": "code",
   "execution_count": 3,
   "metadata": {},
   "outputs": [
    {
     "output_type": "execute_result",
     "data": {
      "text/plain": [
       "   Unnamed: 0  Locality Type of property     Price  Number of rooms   Area  \\\n",
       "0           0      2970        apartment  764999.0              2.0  153.0   \n",
       "1           1      3200        apartment  294999.0              2.0   80.0   \n",
       "2           2      8211        apartment  233999.0              2.0   90.0   \n",
       "3           3      2630        apartment  329899.0              1.0   87.0   \n",
       "4           4      2630        apartment  359899.0              1.0   95.0   \n",
       "\n",
       "   Fully equipped kitchen  Furnished  Open fire  Terrace Area  Garden Area  \\\n",
       "0                     0.0        0.0        0.0          62.0          0.0   \n",
       "1                     0.0        0.0        0.0           0.0          0.0   \n",
       "2                     0.0        0.0        0.0           0.0          0.0   \n",
       "3                     0.0        0.0        0.0          28.0          0.0   \n",
       "4                     0.0        0.0        0.0          47.0          0.0   \n",
       "\n",
       "   Surface of the land  Number of facades  Swimming pool  \\\n",
       "0                215.0                2.0            0.0   \n",
       "1                 80.0                2.0            0.0   \n",
       "2                 90.0                2.0            0.0   \n",
       "3                115.0                2.0            0.0   \n",
       "4                142.0                4.0            0.0   \n",
       "\n",
       "  State of the building            Province    Region  PriceperMeter  \n",
       "0                medium              Anvers  Flanders         4999.0  \n",
       "1                medium     Brabant Flamand  Flanders         3687.0  \n",
       "2                medium  Flandre Occidental  Flanders         2599.0  \n",
       "3                medium              Anvers  Flanders         3791.0  \n",
       "4                medium              Anvers  Flanders         3788.0  "
      ],
      "text/html": "<div>\n<style scoped>\n    .dataframe tbody tr th:only-of-type {\n        vertical-align: middle;\n    }\n\n    .dataframe tbody tr th {\n        vertical-align: top;\n    }\n\n    .dataframe thead th {\n        text-align: right;\n    }\n</style>\n<table border=\"1\" class=\"dataframe\">\n  <thead>\n    <tr style=\"text-align: right;\">\n      <th></th>\n      <th>Unnamed: 0</th>\n      <th>Locality</th>\n      <th>Type of property</th>\n      <th>Price</th>\n      <th>Number of rooms</th>\n      <th>Area</th>\n      <th>Fully equipped kitchen</th>\n      <th>Furnished</th>\n      <th>Open fire</th>\n      <th>Terrace Area</th>\n      <th>Garden Area</th>\n      <th>Surface of the land</th>\n      <th>Number of facades</th>\n      <th>Swimming pool</th>\n      <th>State of the building</th>\n      <th>Province</th>\n      <th>Region</th>\n      <th>PriceperMeter</th>\n    </tr>\n  </thead>\n  <tbody>\n    <tr>\n      <th>0</th>\n      <td>0</td>\n      <td>2970</td>\n      <td>apartment</td>\n      <td>764999.0</td>\n      <td>2.0</td>\n      <td>153.0</td>\n      <td>0.0</td>\n      <td>0.0</td>\n      <td>0.0</td>\n      <td>62.0</td>\n      <td>0.0</td>\n      <td>215.0</td>\n      <td>2.0</td>\n      <td>0.0</td>\n      <td>medium</td>\n      <td>Anvers</td>\n      <td>Flanders</td>\n      <td>4999.0</td>\n    </tr>\n    <tr>\n      <th>1</th>\n      <td>1</td>\n      <td>3200</td>\n      <td>apartment</td>\n      <td>294999.0</td>\n      <td>2.0</td>\n      <td>80.0</td>\n      <td>0.0</td>\n      <td>0.0</td>\n      <td>0.0</td>\n      <td>0.0</td>\n      <td>0.0</td>\n      <td>80.0</td>\n      <td>2.0</td>\n      <td>0.0</td>\n      <td>medium</td>\n      <td>Brabant Flamand</td>\n      <td>Flanders</td>\n      <td>3687.0</td>\n    </tr>\n    <tr>\n      <th>2</th>\n      <td>2</td>\n      <td>8211</td>\n      <td>apartment</td>\n      <td>233999.0</td>\n      <td>2.0</td>\n      <td>90.0</td>\n      <td>0.0</td>\n      <td>0.0</td>\n      <td>0.0</td>\n      <td>0.0</td>\n      <td>0.0</td>\n      <td>90.0</td>\n      <td>2.0</td>\n      <td>0.0</td>\n      <td>medium</td>\n      <td>Flandre Occidental</td>\n      <td>Flanders</td>\n      <td>2599.0</td>\n    </tr>\n    <tr>\n      <th>3</th>\n      <td>3</td>\n      <td>2630</td>\n      <td>apartment</td>\n      <td>329899.0</td>\n      <td>1.0</td>\n      <td>87.0</td>\n      <td>0.0</td>\n      <td>0.0</td>\n      <td>0.0</td>\n      <td>28.0</td>\n      <td>0.0</td>\n      <td>115.0</td>\n      <td>2.0</td>\n      <td>0.0</td>\n      <td>medium</td>\n      <td>Anvers</td>\n      <td>Flanders</td>\n      <td>3791.0</td>\n    </tr>\n    <tr>\n      <th>4</th>\n      <td>4</td>\n      <td>2630</td>\n      <td>apartment</td>\n      <td>359899.0</td>\n      <td>1.0</td>\n      <td>95.0</td>\n      <td>0.0</td>\n      <td>0.0</td>\n      <td>0.0</td>\n      <td>47.0</td>\n      <td>0.0</td>\n      <td>142.0</td>\n      <td>4.0</td>\n      <td>0.0</td>\n      <td>medium</td>\n      <td>Anvers</td>\n      <td>Flanders</td>\n      <td>3788.0</td>\n    </tr>\n  </tbody>\n</table>\n</div>"
     },
     "metadata": {},
     "execution_count": 3
    }
   ],
   "source": [
    "data = pd.read_csv(\"https://raw.githubusercontent.com/SamuelD005/challenge-regression/development/Data8.csv\", sep=\",\")\n",
    "data.head()"
   ]
  },
  {
   "cell_type": "code",
   "execution_count": 4,
   "metadata": {},
   "outputs": [],
   "source": [
    "X = data.drop([\"Price\",\"Unnamed: 0\",\"PriceperMeter\"] , axis = 1)\n",
    "y = data[\"Price\"]"
   ]
  },
  {
   "cell_type": "code",
   "execution_count": 5,
   "metadata": {},
   "outputs": [
    {
     "output_type": "stream",
     "name": "stdout",
     "text": [
      "Locality                       2970\nType of property          apartment\nNumber of rooms                 2.0\nArea                          153.0\nFully equipped kitchen          0.0\nFurnished                       0.0\nOpen fire                       0.0\nTerrace Area                   62.0\nGarden Area                     0.0\nSurface of the land           215.0\nNumber of facades               2.0\nSwimming pool                   0.0\nState of the building        medium\nProvince                     Anvers\nRegion                     Flanders\nName: 0, dtype: object\n"
     ]
    }
   ],
   "source": [
    "sample = X.iloc[0,:]\n",
    "print(sample)"
   ]
  },
  {
   "cell_type": "code",
   "execution_count": 16,
   "metadata": {},
   "outputs": [
    {
     "output_type": "execute_result",
     "data": {
      "text/plain": [
       "     Locality Type of property  Number of rooms  Area  Fully equipped kitchen  \\\n",
       "157      1070        apartment              2.0  91.0                     0.0   \n",
       "\n",
       "     Furnished  Open fire  Terrace Area  Garden Area  Surface of the land  \\\n",
       "157        0.0        0.0           5.0          0.0                 96.0   \n",
       "\n",
       "     Number of facades  Swimming pool State of the building Province   Region  \n",
       "157                2.0            0.0                  good  Brussel  Brussel  "
      ],
      "text/html": "<div>\n<style scoped>\n    .dataframe tbody tr th:only-of-type {\n        vertical-align: middle;\n    }\n\n    .dataframe tbody tr th {\n        vertical-align: top;\n    }\n\n    .dataframe thead th {\n        text-align: right;\n    }\n</style>\n<table border=\"1\" class=\"dataframe\">\n  <thead>\n    <tr style=\"text-align: right;\">\n      <th></th>\n      <th>Locality</th>\n      <th>Type of property</th>\n      <th>Number of rooms</th>\n      <th>Area</th>\n      <th>Fully equipped kitchen</th>\n      <th>Furnished</th>\n      <th>Open fire</th>\n      <th>Terrace Area</th>\n      <th>Garden Area</th>\n      <th>Surface of the land</th>\n      <th>Number of facades</th>\n      <th>Swimming pool</th>\n      <th>State of the building</th>\n      <th>Province</th>\n      <th>Region</th>\n    </tr>\n  </thead>\n  <tbody>\n    <tr>\n      <th>157</th>\n      <td>1070</td>\n      <td>apartment</td>\n      <td>2.0</td>\n      <td>91.0</td>\n      <td>0.0</td>\n      <td>0.0</td>\n      <td>0.0</td>\n      <td>5.0</td>\n      <td>0.0</td>\n      <td>96.0</td>\n      <td>2.0</td>\n      <td>0.0</td>\n      <td>good</td>\n      <td>Brussel</td>\n      <td>Brussel</td>\n    </tr>\n  </tbody>\n</table>\n</div>"
     },
     "metadata": {},
     "execution_count": 16
    }
   ],
   "source": [
    "test = X.iloc[157:158,:]\n",
    "test.head()"
   ]
  },
  {
   "cell_type": "code",
   "execution_count": 7,
   "metadata": {},
   "outputs": [],
   "source": [
    "result = model.predict(X)"
   ]
  },
  {
   "cell_type": "code",
   "execution_count": 8,
   "metadata": {},
   "outputs": [
    {
     "output_type": "execute_result",
     "data": {
      "text/plain": [
       "    pred_results  true_results     difference\n",
       "0  599163.437500      764999.0  165835.562500\n",
       "1  231055.625000      294999.0   63943.375000\n",
       "2  282474.406250      233999.0  -48475.406250\n",
       "3  253219.203125      329899.0   76679.796875\n",
       "4  316805.437500      359899.0   43093.562500"
      ],
      "text/html": "<div>\n<style scoped>\n    .dataframe tbody tr th:only-of-type {\n        vertical-align: middle;\n    }\n\n    .dataframe tbody tr th {\n        vertical-align: top;\n    }\n\n    .dataframe thead th {\n        text-align: right;\n    }\n</style>\n<table border=\"1\" class=\"dataframe\">\n  <thead>\n    <tr style=\"text-align: right;\">\n      <th></th>\n      <th>pred_results</th>\n      <th>true_results</th>\n      <th>difference</th>\n    </tr>\n  </thead>\n  <tbody>\n    <tr>\n      <th>0</th>\n      <td>599163.437500</td>\n      <td>764999.0</td>\n      <td>165835.562500</td>\n    </tr>\n    <tr>\n      <th>1</th>\n      <td>231055.625000</td>\n      <td>294999.0</td>\n      <td>63943.375000</td>\n    </tr>\n    <tr>\n      <th>2</th>\n      <td>282474.406250</td>\n      <td>233999.0</td>\n      <td>-48475.406250</td>\n    </tr>\n    <tr>\n      <th>3</th>\n      <td>253219.203125</td>\n      <td>329899.0</td>\n      <td>76679.796875</td>\n    </tr>\n    <tr>\n      <th>4</th>\n      <td>316805.437500</td>\n      <td>359899.0</td>\n      <td>43093.562500</td>\n    </tr>\n  </tbody>\n</table>\n</div>"
     },
     "metadata": {},
     "execution_count": 8
    }
   ],
   "source": [
    "compare = pd.DataFrame({\"pred_results\":result, \"true_results\": y })\n",
    "compare[\"difference\"] = compare[\"true_results\"] - compare[\"pred_results\"]\n",
    "compare.head()"
   ]
  },
  {
   "cell_type": "code",
   "execution_count": 18,
   "metadata": {},
   "outputs": [
    {
     "output_type": "execute_result",
     "data": {
      "text/plain": [
       "     Locality Type of property  Number of rooms  Area  Fully equipped kitchen  \\\n",
       "157      1070        apartment              2.0  91.0                     0.0   \n",
       "\n",
       "     Furnished  Open fire  Terrace Area  Garden Area  Surface of the land  \\\n",
       "157        0.0        0.0           5.0          0.0                 96.0   \n",
       "\n",
       "     Number of facades  Swimming pool State of the building Province   Region  \n",
       "157                2.0            0.0                  good  Brussel  Brussel  "
      ],
      "text/html": "<div>\n<style scoped>\n    .dataframe tbody tr th:only-of-type {\n        vertical-align: middle;\n    }\n\n    .dataframe tbody tr th {\n        vertical-align: top;\n    }\n\n    .dataframe thead th {\n        text-align: right;\n    }\n</style>\n<table border=\"1\" class=\"dataframe\">\n  <thead>\n    <tr style=\"text-align: right;\">\n      <th></th>\n      <th>Locality</th>\n      <th>Type of property</th>\n      <th>Number of rooms</th>\n      <th>Area</th>\n      <th>Fully equipped kitchen</th>\n      <th>Furnished</th>\n      <th>Open fire</th>\n      <th>Terrace Area</th>\n      <th>Garden Area</th>\n      <th>Surface of the land</th>\n      <th>Number of facades</th>\n      <th>Swimming pool</th>\n      <th>State of the building</th>\n      <th>Province</th>\n      <th>Region</th>\n    </tr>\n  </thead>\n  <tbody>\n    <tr>\n      <th>157</th>\n      <td>1070</td>\n      <td>apartment</td>\n      <td>2.0</td>\n      <td>91.0</td>\n      <td>0.0</td>\n      <td>0.0</td>\n      <td>0.0</td>\n      <td>5.0</td>\n      <td>0.0</td>\n      <td>96.0</td>\n      <td>2.0</td>\n      <td>0.0</td>\n      <td>good</td>\n      <td>Brussel</td>\n      <td>Brussel</td>\n    </tr>\n  </tbody>\n</table>\n</div>"
     },
     "metadata": {},
     "execution_count": 18
    }
   ],
   "source": [
    "test.head()"
   ]
  },
  {
   "cell_type": "code",
   "execution_count": 9,
   "metadata": {},
   "outputs": [],
   "source": [
    "columns = X.columns"
   ]
  },
  {
   "cell_type": "code",
   "execution_count": 10,
   "metadata": {},
   "outputs": [],
   "source": [
    "df_streamlit = pd.DataFrame(columns = columns)"
   ]
  },
  {
   "cell_type": "code",
   "execution_count": 11,
   "metadata": {},
   "outputs": [
    {
     "output_type": "execute_result",
     "data": {
      "text/plain": [
       "Empty DataFrame\n",
       "Columns: [Locality, Type of property, Number of rooms, Area, Fully equipped kitchen, Furnished, Open fire, Terrace Area, Garden Area, Surface of the land, Number of facades, Swimming pool, State of the building, Province, Region]\n",
       "Index: []"
      ],
      "text/html": "<div>\n<style scoped>\n    .dataframe tbody tr th:only-of-type {\n        vertical-align: middle;\n    }\n\n    .dataframe tbody tr th {\n        vertical-align: top;\n    }\n\n    .dataframe thead th {\n        text-align: right;\n    }\n</style>\n<table border=\"1\" class=\"dataframe\">\n  <thead>\n    <tr style=\"text-align: right;\">\n      <th></th>\n      <th>Locality</th>\n      <th>Type of property</th>\n      <th>Number of rooms</th>\n      <th>Area</th>\n      <th>Fully equipped kitchen</th>\n      <th>Furnished</th>\n      <th>Open fire</th>\n      <th>Terrace Area</th>\n      <th>Garden Area</th>\n      <th>Surface of the land</th>\n      <th>Number of facades</th>\n      <th>Swimming pool</th>\n      <th>State of the building</th>\n      <th>Province</th>\n      <th>Region</th>\n    </tr>\n  </thead>\n  <tbody>\n  </tbody>\n</table>\n</div>"
     },
     "metadata": {},
     "execution_count": 11
    }
   ],
   "source": [
    "df_streamlit.head()"
   ]
  },
  {
   "cell_type": "code",
   "execution_count": 12,
   "metadata": {},
   "outputs": [
    {
     "output_type": "stream",
     "name": "stdout",
     "text": [
      "('Brussel', 'Brussel', 1, 1)\n"
     ]
    }
   ],
   "source": []
  },
  {
   "cell_type": "code",
   "execution_count": null,
   "metadata": {},
   "outputs": [],
   "source": []
  }
 ]
}